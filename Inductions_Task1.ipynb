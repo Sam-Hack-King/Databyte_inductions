{
  "nbformat": 4,
  "nbformat_minor": 0,
  "metadata": {
    "colab": {
      "name": "Inductions_Task1.ipynb",
      "provenance": [],
      "authorship_tag": "ABX9TyMZEya5Xspxg7KbUgU/InME",
      "include_colab_link": true
    },
    "kernelspec": {
      "name": "python3",
      "display_name": "Python 3"
    }
  },
  "cells": [
    {
      "cell_type": "markdown",
      "metadata": {
        "id": "view-in-github",
        "colab_type": "text"
      },
      "source": [
        "<a href=\"https://colab.research.google.com/github/Sam-Hack-King/Databyte_inductions/blob/main/Inductions_Task1.ipynb\" target=\"_parent\"><img src=\"https://colab.research.google.com/assets/colab-badge.svg\" alt=\"Open In Colab\"/></a>"
      ]
    },
    {
      "cell_type": "code",
      "metadata": {
        "id": "4CnZg9zirgYE"
      },
      "source": [
        "# Page 4\r\n"
      ],
      "execution_count": 1,
      "outputs": []
    }
  ]
}